{
 "cells": [
  {
   "cell_type": "code",
   "execution_count": null,
   "id": "9c7b67a6-b86d-4495-a9a8-adc731e0cca6",
   "metadata": {},
   "outputs": [],
   "source": [
    "1. צרי מערך באורך 10 של מספרים שלמים רנדומליים בין 1 ל-50 וחשבי את הממוצע של המספרים"
   ]
  },
  {
   "cell_type": "code",
   "execution_count": 3,
   "id": "d62e2218-42f8-4d93-a076-66b25a63eb91",
   "metadata": {},
   "outputs": [
    {
     "name": "stdout",
     "output_type": "stream",
     "text": [
      "Requirement already satisfied: numpy in c:\\python310\\lib\\site-packages (2.2.5)Note: you may need to restart the kernel to use updated packages.\n"
     ]
    },
    {
     "name": "stderr",
     "output_type": "stream",
     "text": [
      "\n",
      "[notice] A new release of pip is available: 23.3.2 -> 25.1.1\n",
      "[notice] To update, run: python.exe -m pip install --upgrade pip\n"
     ]
    },
    {
     "name": "stdout",
     "output_type": "stream",
     "text": [
      "\n"
     ]
    }
   ],
   "source": [
    "pip install numpy"
   ]
  },
  {
   "cell_type": "code",
   "execution_count": 4,
   "id": "f915d784-5db0-4f88-a4c0-b692e0f812ee",
   "metadata": {},
   "outputs": [],
   "source": [
    "import numpy as np"
   ]
  },
  {
   "cell_type": "code",
   "execution_count": 20,
   "id": "76b9b64f-b96c-4c53-acf4-d439205157c6",
   "metadata": {},
   "outputs": [
    {
     "data": {
      "text/plain": [
       "array([30, 18, 22, 41, 48,  1,  9, 31, 41, 14], dtype=int32)"
      ]
     },
     "execution_count": 20,
     "metadata": {},
     "output_type": "execute_result"
    }
   ],
   "source": [
    "arr = np.random.randint(0, 50,size=(10))\n",
    "arr"
   ]
  },
  {
   "cell_type": "code",
   "execution_count": null,
   "id": "39f6ef31-9ff7-40eb-aef4-a4356b99a8a5",
   "metadata": {},
   "outputs": [],
   "source": []
  },
  {
   "cell_type": "code",
   "execution_count": 21,
   "id": "bc95fbca-aa46-4b1f-aed0-c76a642317fd",
   "metadata": {},
   "outputs": [
    {
     "data": {
      "text/plain": [
       "np.float64(25.5)"
      ]
     },
     "execution_count": 21,
     "metadata": {},
     "output_type": "execute_result"
    }
   ],
   "source": [
    "np.mean(arr)"
   ]
  },
  {
   "cell_type": "code",
   "execution_count": null,
   "id": "05b47074-c78a-475c-9fdb-51e03015bce5",
   "metadata": {},
   "outputs": [],
   "source": [
    "2. צרי שני מערכים דו מימדיים בגודל 3, חברי אותם, ובדקי מה הממוצע של התוצאה"
   ]
  },
  {
   "cell_type": "code",
   "execution_count": 33,
   "id": "85e9dba3-f70a-4e24-87d8-d653794832f4",
   "metadata": {},
   "outputs": [
    {
     "data": {
      "text/plain": [
       "array([[3, 4, 4],\n",
       "       [0, 2, 3],\n",
       "       [3, 4, 3]], dtype=int32)"
      ]
     },
     "execution_count": 33,
     "metadata": {},
     "output_type": "execute_result"
    }
   ],
   "source": [
    "a1 = np.random.randint(0,5,size=(3,3))\n",
    "a2 = np.random.randint(0,5,size=(3,3))   \n",
    "a1\n",
    "a2               "
   ]
  },
  {
   "cell_type": "code",
   "execution_count": 34,
   "id": "7aa70fb9-b87c-4861-a846-addb5773e1d1",
   "metadata": {},
   "outputs": [
    {
     "data": {
      "text/plain": [
       "array([[1, 2, 0],\n",
       "       [1, 0, 4],\n",
       "       [3, 0, 4]], dtype=int32)"
      ]
     },
     "execution_count": 34,
     "metadata": {},
     "output_type": "execute_result"
    }
   ],
   "source": [
    "a1"
   ]
  },
  {
   "cell_type": "code",
   "execution_count": 35,
   "id": "59996f90-1aba-4f08-a865-764875e5cc01",
   "metadata": {},
   "outputs": [
    {
     "data": {
      "text/plain": [
       "array([[4, 6, 4],\n",
       "       [1, 2, 7],\n",
       "       [6, 4, 7]], dtype=int32)"
      ]
     },
     "execution_count": 35,
     "metadata": {},
     "output_type": "execute_result"
    }
   ],
   "source": [
    "a3 = a1 + a2\n",
    "a3"
   ]
  },
  {
   "cell_type": "code",
   "execution_count": 36,
   "id": "b4309c29-7765-4fe1-82ac-605360b55279",
   "metadata": {},
   "outputs": [
    {
     "data": {
      "text/plain": [
       "np.float64(4.555555555555555)"
      ]
     },
     "execution_count": 36,
     "metadata": {},
     "output_type": "execute_result"
    }
   ],
   "source": [
    "np.mean(a3)"
   ]
  },
  {
   "cell_type": "code",
   "execution_count": null,
   "id": "8a202a7f-2821-4533-bb06-f43a728e09b3",
   "metadata": {},
   "outputs": [],
   "source": [
    "3. צרי מערך של 20 מספרים שלמים רנדומליים בין 1 ל-100. מצאי את כל המספרים שגדולים מ-50 במערך זה."
   ]
  },
  {
   "cell_type": "code",
   "execution_count": 38,
   "id": "615dc5b4-8df9-4fd8-b072-5d53f2e46127",
   "metadata": {},
   "outputs": [
    {
     "data": {
      "text/plain": [
       "array([69, 38, 52, 63, 85, 99, 70, 62,  0, 82, 93, 64, 56, 35, 53, 89, 64,\n",
       "       62, 86, 52], dtype=int32)"
      ]
     },
     "execution_count": 38,
     "metadata": {},
     "output_type": "execute_result"
    }
   ],
   "source": [
    "arr2 = np.random.randint(0, 100,size=(20))\n",
    "arr2"
   ]
  },
  {
   "cell_type": "code",
   "execution_count": 42,
   "id": "5740ffaf-b4ef-4cc1-b5a7-148dc7e1ce6d",
   "metadata": {},
   "outputs": [
    {
     "ename": "NameError",
     "evalue": "name 'x' is not defined",
     "output_type": "error",
     "traceback": [
      "\u001b[1;31m---------------------------------------------------------------------------\u001b[0m",
      "\u001b[1;31mNameError\u001b[0m                                 Traceback (most recent call last)",
      "Cell \u001b[1;32mIn[42], line 1\u001b[0m\n\u001b[1;32m----> 1\u001b[0m \u001b[38;5;28mfilter\u001b[39m \u001b[38;5;241m=\u001b[39m \u001b[43mx\u001b[49m \u001b[38;5;241m>\u001b[39m \u001b[38;5;241m50\u001b[39m\n\u001b[0;32m      2\u001b[0m arr3 \u001b[38;5;241m=\u001b[39m arr2[\u001b[38;5;28mfilter\u001b[39m]\n",
      "\u001b[1;31mNameError\u001b[0m: name 'x' is not defined"
     ]
    }
   ],
   "source": [
    "filter = x > 50\n",
    "arr3 = arr2[filter]\n",
    "arr3"
   ]
  },
  {
   "cell_type": "code",
   "execution_count": null,
   "id": "b96a82b0-8103-46fc-80fb-b78fb66b9131",
   "metadata": {},
   "outputs": [],
   "source": []
  }
 ],
 "metadata": {
  "kernelspec": {
   "display_name": "Python 3 (ipykernel)",
   "language": "python",
   "name": "python3"
  },
  "language_info": {
   "codemirror_mode": {
    "name": "ipython",
    "version": 3
   },
   "file_extension": ".py",
   "mimetype": "text/x-python",
   "name": "python",
   "nbconvert_exporter": "python",
   "pygments_lexer": "ipython3",
   "version": "3.10.8"
  }
 },
 "nbformat": 4,
 "nbformat_minor": 5
}
